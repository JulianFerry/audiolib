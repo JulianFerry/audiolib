{
 "cells": [
  {
   "cell_type": "code",
   "execution_count": 2,
   "metadata": {},
   "outputs": [],
   "source": [
    "import os\n",
    "import numpy as np\n",
    "import pandas as pd\n",
    "import pickle\n",
    "import time\n",
    "import matplotlib.pyplot as plt\n",
    "from pathlib import Path\n",
    "from audiolib import AudioDataset, AudioFile"
   ]
  },
  {
   "cell_type": "code",
   "execution_count": 3,
   "metadata": {},
   "outputs": [
    {
     "name": "stdout",
     "output_type": "stream",
     "text": [
      "Filter file names: ['vocal_acoustic-filter.csv', 'bass_acoustic-filter.csv', 'vocal_electronic-filter.csv', 'string_electronic-filter.csv', 'brass_electronic-filter.csv', 'guitar_acoustic-filter.csv', 'string_acoustic-filter.csv', 'flute_acoustic-filter.csv', 'reed_acoustic-filter.csv', 'brass_acoustic-filter.csv', 'keyboard_acoustic-filter.csv', 'bass_electronic-filter.csv', 'guitar_electronic-filter.csv']\n",
      "\n",
      "Example filter file:\n"
     ]
    },
    {
     "data": {
      "text/html": [
       "<div>\n",
       "<style scoped>\n",
       "    .dataframe tbody tr th:only-of-type {\n",
       "        vertical-align: middle;\n",
       "    }\n",
       "\n",
       "    .dataframe tbody tr th {\n",
       "        vertical-align: top;\n",
       "    }\n",
       "\n",
       "    .dataframe thead th {\n",
       "        text-align: right;\n",
       "    }\n",
       "</style>\n",
       "<table border=\"1\" class=\"dataframe\">\n",
       "  <thead>\n",
       "    <tr style=\"text-align: right;\">\n",
       "      <th></th>\n",
       "      <th>instrument</th>\n",
       "      <th>keep</th>\n",
       "    </tr>\n",
       "  </thead>\n",
       "  <tbody>\n",
       "    <tr>\n",
       "      <th>0</th>\n",
       "      <td>vocal_acoustic_009</td>\n",
       "      <td>1</td>\n",
       "    </tr>\n",
       "    <tr>\n",
       "      <th>1</th>\n",
       "      <td>vocal_acoustic_028</td>\n",
       "      <td>1</td>\n",
       "    </tr>\n",
       "    <tr>\n",
       "      <th>2</th>\n",
       "      <td>vocal_acoustic_023</td>\n",
       "      <td>1</td>\n",
       "    </tr>\n",
       "    <tr>\n",
       "      <th>3</th>\n",
       "      <td>vocal_acoustic_024</td>\n",
       "      <td>1</td>\n",
       "    </tr>\n",
       "    <tr>\n",
       "      <th>4</th>\n",
       "      <td>vocal_acoustic_016</td>\n",
       "      <td>1</td>\n",
       "    </tr>\n",
       "  </tbody>\n",
       "</table>\n",
       "</div>"
      ],
      "text/plain": [
       "           instrument  keep\n",
       "0  vocal_acoustic_009     1\n",
       "1  vocal_acoustic_028     1\n",
       "2  vocal_acoustic_023     1\n",
       "3  vocal_acoustic_024     1\n",
       "4  vocal_acoustic_016     1"
      ]
     },
     "execution_count": 3,
     "metadata": {},
     "output_type": "execute_result"
    }
   ],
   "source": [
    "# Load data filters\n",
    "filter_path = Path('../data/interim/train')\n",
    "data_filters = os.listdir(filter_path)\n",
    "data_filters.remove('.DS_Store')\n",
    "print('Filter file names:', data_filters)\n",
    "print('\\nExample filter file:')\n",
    "pd.read_csv(filter_path/data_filters[0]).head()"
   ]
  },
  {
   "cell_type": "code",
   "execution_count": 4,
   "metadata": {},
   "outputs": [
    {
     "name": "stdout",
     "output_type": "stream",
     "text": [
      "Keys extracted from file names: dict_keys(['vocal_acoustic', 'bass_acoustic', 'vocal_electronic', 'string_electronic', 'brass_electronic', 'guitar_acoustic', 'string_acoustic', 'flute_acoustic', 'reed_acoustic', 'brass_acoustic', 'keyboard_acoustic', 'bass_electronic', 'guitar_electronic'])\n",
      "\n",
      "Example of instruments to keep according to vocal acoustic csv file: ['vocal_acoustic_009', 'vocal_acoustic_028', 'vocal_acoustic_023', 'vocal_acoustic_024', 'vocal_acoustic_016', 'vocal_acoustic_025', 'vocal_acoustic_026', 'vocal_acoustic_003', 'vocal_acoustic_002', 'vocal_acoustic_013', 'vocal_acoustic_015', 'vocal_acoustic_011', 'vocal_acoustic_014', 'vocal_acoustic_018', 'vocal_acoustic_012', 'vocal_acoustic_027', 'vocal_acoustic_019', 'vocal_acoustic_021', 'vocal_acoustic_008', 'vocal_acoustic_005', 'vocal_acoustic_022', 'vocal_acoustic_004', 'vocal_acoustic_020', 'vocal_acoustic_029', 'vocal_acoustic_001', 'vocal_acoustic_017', 'vocal_acoustic_006', 'vocal_acoustic_010', 'vocal_acoustic_007']\n"
     ]
    }
   ],
   "source": [
    "# Store filters in dict\n",
    "instr_filtered = {}\n",
    "for filter_file in data_filters:\n",
    "    df_filter = pd.read_csv(filter_path/filter_file)\n",
    "    instr_name = filter_file.split('-')[0]\n",
    "    instr_filtered[instr_name] = (\n",
    "        list(df_filter.loc[df_filter['keep'] == 1, 'instrument'].values))\n",
    "print('Keys extracted from file names:', instr_filtered.keys())\n",
    "print('\\nExample of instruments to keep according to vocal acoustic csv file:',\n",
    "      instr_filtered['vocal_acoustic'])"
   ]
  },
  {
   "cell_type": "code",
   "execution_count": 5,
   "metadata": {},
   "outputs": [
    {
     "name": "stdout",
     "output_type": "stream",
     "text": [
      "Dataset unique instruments: ['guitar_acoustic', 'bass_synthetic', 'organ_electronic', 'guitar_electronic', 'keyboard_electronic', 'keyboard_acoustic', 'vocal_synthetic', 'string_acoustic', 'reed_acoustic', 'flute_acoustic', 'mallet_electronic', 'mallet_synthetic', 'brass_acoustic', 'guitar_synthetic', 'flute_synthetic', 'mallet_acoustic', 'synth_lead_synthetic', 'bass_electronic', 'keyboard_synthetic', 'vocal_acoustic', 'reed_synthetic', 'organ_acoustic', 'reed_electronic', 'vocal_electronic', 'bass_acoustic', 'string_electronic', 'brass_electronic', 'flute_electronic']\n",
      "\n",
      "Vocal acoustic dataset file prefixes: dict_keys(['vocal_acoustic_009', 'vocal_acoustic_028', 'vocal_acoustic_023', 'vocal_acoustic_024', 'vocal_acoustic_016', 'vocal_acoustic_025', 'vocal_acoustic_026', 'vocal_acoustic_003', 'vocal_acoustic_002', 'vocal_acoustic_013', 'vocal_acoustic_015', 'vocal_acoustic_011', 'vocal_acoustic_014', 'vocal_acoustic_018', 'vocal_acoustic_012', 'vocal_acoustic_027', 'vocal_acoustic_019', 'vocal_acoustic_021', 'vocal_acoustic_008', 'vocal_acoustic_005', 'vocal_acoustic_022', 'vocal_acoustic_004', 'vocal_acoustic_020', 'vocal_acoustic_029', 'vocal_acoustic_001', 'vocal_acoustic_017', 'vocal_acoustic_006', 'vocal_acoustic_010', 'vocal_acoustic_007'])\n"
     ]
    }
   ],
   "source": [
    "# Load dataset and view instruments\n",
    "train = AudioDataset(path='../data/raw/nsynth-train/')\n",
    "print('Dataset unique instruments:', train.unique_instruments)\n",
    "print('\\nVocal acoustic dataset file prefixes:',\n",
    "      train.file_names_nested['vocal_acoustic'].keys())"
   ]
  },
  {
   "cell_type": "markdown",
   "metadata": {},
   "source": [
    "### Load audio"
   ]
  },
  {
   "cell_type": "code",
   "execution_count": 20,
   "metadata": {},
   "outputs": [],
   "source": [
    "def save_spectrograms(dataset_path, instr_name, time_intervals=1, resolution=5, start=0, end=-1,\n",
    "                      save_path='../data/processed/'):\n",
    "    \"\"\"\n",
    "    Load instrument audio files and save their spectrograms\n",
    "    \"\"\"\n",
    "    # Fixed values\n",
    "    dataset = AudioDataset(dataset_path)\n",
    "    instr_ids = instr_filtered[instr_name]\n",
    "    num_files = sum([len(dataset.file_names_nested[instr_name][id]) for id in instr_ids])\n",
    "    # Dynamically updated values\n",
    "    success_count = 0\n",
    "    fail_count = 0\n",
    "    # Save path\n",
    "    dataset_name = str(dataset_path).split('/')[-1]\n",
    "    save_path = Path(os.path.join(\n",
    "        save_path,\n",
    "        dataset_name,\n",
    "        f'time_intervals={time_intervals}',\n",
    "        f'resolution={resolution}',\n",
    "        instr_name\n",
    "    ))\n",
    "    print('Generating {} {} spectrograms'.format(num_files, instr_name))\n",
    "    for instr_id in instr_ids:\n",
    "        instr_save_path = save_path/instr_id\n",
    "        os.makedirs(instr_save_path, exist_ok=True)\n",
    "        for file_name in dataset.file_names_nested[instr_name][instr_id]:\n",
    "            print('- File {} - {} successes / {} failures'.format(\n",
    "                     file_name, success_count, fail_count),\n",
    "                  end ='\\r')\n",
    "            try:\n",
    "                af = dataset.load_file(file_name)\n",
    "                if 'fast_decay' not in af.info['qualities_str']:\n",
    "                    spec = (af.audio\n",
    "                            .trim(start, end)\n",
    "                            .to_spectrogram(time_intervals, resolution, cqt=True))\n",
    "                    with open(instr_save_path/(file_name+'.spec'), 'wb') as f:\n",
    "                        pickle.dump(spec, f)\n",
    "                    success_count += 1\n",
    "            except Exception as exc:\n",
    "                #print(exc)\n",
    "                fail_count += 1\n",
    "                \n",
    "    print('\\nFinished. Saved spectrograms to {}\\n'.format(save_path))"
   ]
  },
  {
   "cell_type": "code",
   "execution_count": 21,
   "metadata": {
    "scrolled": true
   },
   "outputs": [
    {
     "name": "stdout",
     "output_type": "stream",
     "text": [
      "Generating 3820 vocal_acoustic spectrograms\n",
      "- File vocal_acoustic_007-043-075 - 3572 successes / 247 failures\n",
      "Finished. Saved spectrograms to ../data/processed/time_intervals=1/resolution=5/vocal_acoustic\n",
      "\n",
      "Generating 200 bass_acoustic spectrograms\n",
      "- File bass_acoustic_000-060-025 - 157 successes / 24 failures\n",
      "Finished. Saved spectrograms to ../data/processed/time_intervals=1/resolution=5/bass_acoustic\n",
      "\n",
      "Generating 140 vocal_electronic spectrograms\n",
      "- File vocal_electronic_002-057-127 - 135 successes / 4 failures\n",
      "Finished. Saved spectrograms to ../data/processed/time_intervals=1/resolution=5/vocal_electronic\n",
      "\n",
      "Generating 84 string_electronic spectrograms\n",
      "- File string_electronic_000-080-127 - 79 successes / 4 failures\n",
      "Finished. Saved spectrograms to ../data/processed/time_intervals=1/resolution=5/string_electronic\n",
      "\n",
      "Generating 70 brass_electronic spectrograms\n",
      "- File brass_electronic_001-076-127 - 66 successes / 3 failures\n",
      "Finished. Saved spectrograms to ../data/processed/time_intervals=1/resolution=5/brass_electronic\n",
      "\n",
      "Generating 5955 guitar_acoustic spectrograms\n",
      "- File guitar_acoustic_031-056-127 - 4068 successes / 416 failures\n",
      "Finished. Saved spectrograms to ../data/processed/time_intervals=1/resolution=5/guitar_acoustic\n",
      "\n",
      "Generating 14795 string_acoustic spectrograms\n",
      "- File string_acoustic_074-062-075 - 12249 successes / 974 failures\n",
      "Finished. Saved spectrograms to ../data/processed/time_intervals=1/resolution=5/string_acoustic\n",
      "\n",
      "Generating 5634 flute_acoustic spectrograms\n",
      "- File flute_acoustic_010-069-100 - 4626 successes / 379 failures\n",
      "Finished. Saved spectrograms to ../data/processed/time_intervals=1/resolution=5/flute_acoustic\n",
      "\n",
      "Generating 11090 reed_acoustic spectrograms\n",
      "- File reed_acoustic_025-059-025 - 8755 successes / 704 failures\n",
      "Finished. Saved spectrograms to ../data/processed/time_intervals=1/resolution=5/reed_acoustic\n",
      "\n",
      "Generating 12235 brass_acoustic spectrograms\n",
      "- File brass_acoustic_035-072-127 - 9322 successes / 777 failures\n",
      "Finished. Saved spectrograms to ../data/processed/time_intervals=1/resolution=5/brass_acoustic\n",
      "\n",
      "Generating 6160 keyboard_acoustic spectrograms\n",
      "- File keyboard_acoustic_016-091-127 - 5313 successes / 399 failures\n",
      "Finished. Saved spectrograms to ../data/processed/time_intervals=1/resolution=5/keyboard_acoustic\n",
      "\n",
      "Generating 7757 bass_electronic spectrograms\n",
      "- File bass_electronic_006-058-127 - 6742 successes / 505 failures\n",
      "Finished. Saved spectrograms to ../data/processed/time_intervals=1/resolution=5/bass_electronic\n",
      "\n",
      "Generating 9476 guitar_electronic spectrograms\n",
      "- File guitar_electronic_020-041-127 - 7324 successes / 611 failures\n",
      "Finished. Saved spectrograms to ../data/processed/time_intervals=1/resolution=5/guitar_electronic\n",
      "\n"
     ]
    }
   ],
   "source": [
    "for instr in list(instr_filtered.keys()):\n",
    "    save_spectrograms('../data/raw/nsynth-train/', instr, start=0.2, end=3)"
   ]
  },
  {
   "cell_type": "code",
   "execution_count": null,
   "metadata": {},
   "outputs": [],
   "source": []
  }
 ],
 "metadata": {
  "kernelspec": {
   "display_name": "Python 3",
   "language": "python",
   "name": "python3"
  },
  "language_info": {
   "codemirror_mode": {
    "name": "ipython",
    "version": 3
   },
   "file_extension": ".py",
   "mimetype": "text/x-python",
   "name": "python",
   "nbconvert_exporter": "python",
   "pygments_lexer": "ipython3",
   "version": "3.7.7"
  }
 },
 "nbformat": 4,
 "nbformat_minor": 4
}
